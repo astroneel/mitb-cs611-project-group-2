{
 "cells": [
  {
   "cell_type": "code",
   "execution_count": 29,
   "id": "b52c69e6-b35d-4efa-a2ee-aa596bf2b367",
   "metadata": {
    "tags": []
   },
   "outputs": [],
   "source": [
    "## This is a sample notebook which contains some of the code we used to apply auto-scaling on our model endpoints \n",
    "\n",
    "import sagemaker, boto3, json\n",
    "from sagemaker import get_execution_role, session\n",
    "from sagemaker.session import production_variant\n",
    "from sagemaker import Predictor\n",
    "from sagemaker import image_uris, model_uris, script_uris\n",
    "from ast import literal_eval\n",
    "from urllib.parse import urlparse\n",
    "import os\n",
    "import time\n",
    "import numpy as np\n",
    "import pandas as pd\n",
    "\n",
    "aws_region = boto3.Session().region_name\n",
    "\n",
    "sess = boto3.Session()\n",
    "sm = sess.client(\"sagemaker\")\n",
    "sagemaker_client = boto3.client('sagemaker-runtime')\n",
    "role = get_execution_role()\n",
    "sagemaker_session = sagemaker.Session(boto_session = sess)\n",
    "bucket = sagemaker_session.default_bucket()\n",
    "region = boto3.Session().region_name\n",
    "sm_session = session.Session(boto3.Session())\n",
    "\n",
    "image_model_s3_uri = f's3://sagemaker-us-east-1-233328792017/project-image-model/model/image_model.tar.gz'\n",
    "image_endpoint_name = f'image-model-endpoint' ## replace with actual endpoint name \n",
    "\n",
    "text_model_id, text_model_version = 'tensorflow-tc-bert-en-uncased-L-12-H-768-A-12-2', '*'\n",
    "text_model_s3_uri = f's3://sagemaker-us-east-1-233328792017/project-text-model/data/output/jumpstart-example-tensorflow-tc-bert-en-2023-06-18-07-56-14-807/output/model.tar.gz'\n",
    "text_endpoint_name = f'text-model-endpoint' ## replace with actual endpoint name \n",
    "\n",
    "as_client = boto3.client(\"application-autoscaling\")\n",
    "\n",
    "def auto_scale_variant(endpoint_name, variant_name):\n",
    "\n",
    "    resource_id = 'endpoint/' + endpoint_name + '/variant/' + variant_name\n",
    "\n",
    "    response1 = as_client.register_scalable_target(\n",
    "\n",
    "        ServiceNamespace = 'sagemaker',\n",
    "        ResourceId = resource_id,\n",
    "        ScalableDimension = 'sagemaker:variant:DesiredInstanceCount',\n",
    "        MinCapacity = 1,\n",
    "        MaxCapacity = 2\n",
    "\n",
    "    )\n",
    "\n",
    "    #Example 1 - SageMakerVariantInvocationsPerInstance Metric\n",
    "    response2 = as_client.put_scaling_policy(\n",
    "\n",
    "        PolicyName = 'Invocations-ScalingPolicy',\n",
    "        ServiceNamespace = 'sagemaker',\n",
    "        ResourceId = resource_id, \n",
    "        ScalableDimension = 'sagemaker:variant:DesiredInstanceCount',\n",
    "        PolicyType = 'TargetTrackingScaling',\n",
    "        TargetTrackingScalingPolicyConfiguration = {\n",
    "\n",
    "            'TargetValue': 10.0,\n",
    "            'PredefinedMetricSpecification': {\n",
    "\n",
    "                'PredefinedMetricType': 'SageMakerVariantInvocationsPerInstance',\n",
    "\n",
    "            },\n",
    "\n",
    "            'ScaleInCooldown': 600,\n",
    "            'ScaleOutCooldown': 300\n",
    "\n",
    "        }\n",
    "\n",
    "    )\n",
    "\n",
    "    #Example 2 - CPUUtilization metric\n",
    "    response3 = as_client.put_scaling_policy(\n",
    "\n",
    "        PolicyName = 'CPUUtil-ScalingPolicy',\n",
    "        ServiceNamespace = 'sagemaker',\n",
    "        ResourceId = resource_id,\n",
    "        ScalableDimension = 'sagemaker:variant:DesiredInstanceCount',\n",
    "        PolicyType = 'TargetTrackingScaling',\n",
    "        TargetTrackingScalingPolicyConfiguration = {\n",
    "\n",
    "            'TargetValue': 90.0,\n",
    "            'CustomizedMetricSpecification':\n",
    "\n",
    "            {\n",
    "                'MetricName': 'CPUUtilization',\n",
    "                'Namespace': '/aws/sagemaker/Endpoints',\n",
    "                'Dimensions': [\n",
    "\n",
    "                    {'Name': 'EndpointName', 'Value': endpoint_name},\n",
    "                    {'Name': 'VariantName','Value': 'Variant1'}\n",
    "\n",
    "                ],\n",
    "\n",
    "                'Statistic': 'Average',\n",
    "                'Unit': 'Percent'\n",
    "            },\n",
    "\n",
    "            'ScaleInCooldown': 600,\n",
    "            'ScaleOutCooldown': 300\n",
    "\n",
    "        }\n",
    "\n",
    "    )\n"
   ]
  },
  {
   "cell_type": "code",
   "execution_count": 30,
   "id": "3180a790-ed1a-43b0-8acf-b07d1015070c",
   "metadata": {
    "tags": []
   },
   "outputs": [
    {
     "name": "stderr",
     "output_type": "stream",
     "text": [
      "Defaulting to the only supported framework/algorithm version: 1. Ignoring framework/algorithm version: 1.7-1.\n",
      "Using already existing model: image-variant-1\n",
      "Using already existing model: image-variant-2\n"
     ]
    }
   ],
   "source": [
    "image_model_container_uri = sagemaker.image_uris.retrieve(\n",
    "    \n",
    "    framework = 'image-classification', \n",
    "    region = region, \n",
    "    version = '1.7-1'\n",
    "\n",
    ")\n",
    "\n",
    "image_model_1_name = 'image-variant-1'\n",
    "image_model_2_name = 'image-variant-2'\n",
    "\n",
    "sm_session.create_model(\n",
    "    name = image_model_1_name, role=role, container_defs = {\"Image\": image_model_container_uri, \"ModelDataUrl\": image_model_s3_uri}\n",
    ")\n",
    "\n",
    "sm_session.create_model(\n",
    "    name = image_model_2_name, role=role, container_defs = {\"Image\": image_model_container_uri, \"ModelDataUrl\": image_model_s3_uri}\n",
    ")\n",
    "\n",
    "variant1 = production_variant(model_name = image_model_1_name,\n",
    "                              instance_type = \"ml.m5.xlarge\",\n",
    "                              initial_instance_count = 1,\n",
    "                              variant_name = 'Variant1',\n",
    "                              initial_weight = 0.5\n",
    "                             )\n",
    "                              \n",
    "variant2 = production_variant(model_name = image_model_2_name,\n",
    "                              instance_type = \"ml.m5.xlarge\",\n",
    "                              initial_instance_count = 1,\n",
    "                              variant_name = 'Variant2',\n",
    "                              initial_weight = 0.5\n",
    "                             )\n"
   ]
  },
  {
   "cell_type": "code",
   "execution_count": 18,
   "id": "1d7b2906-d190-4eec-a364-a4c39eef8625",
   "metadata": {
    "tags": []
   },
   "outputs": [
    {
     "name": "stdout",
     "output_type": "stream",
     "text": [
      "------!"
     ]
    }
   ],
   "source": [
    "# image_endpoint = image_model.deploy(\n",
    "    \n",
    "#     initial_instance_count = 1, \n",
    "#     instance_type = 'ml.m5.large', \n",
    "#     endpoint_name = image_endpoint_name\n",
    "\n",
    "# )\n",
    "\n",
    "image_endpoint = sm_session.endpoint_from_production_variants(\n",
    "    \n",
    "    name = image_endpoint_name,\n",
    "    production_variants = [variant1, variant2]\n",
    "    \n",
    ")\n",
    "\n",
    "auto_scale_variant(image_endpoint_name, 'Variant1')\n",
    "auto_scale_variant(image_endpoint_name, 'Variant2')"
   ]
  },
  {
   "cell_type": "code",
   "execution_count": 25,
   "id": "9172cc08-f519-4bb0-bbbd-a64d429f3608",
   "metadata": {
    "tags": []
   },
   "outputs": [],
   "source": [
    "text_model_container_uri = sagemaker.image_uris.retrieve(\n",
    "    \n",
    "    model_id = text_model_id,\n",
    "    model_version = text_model_version,\n",
    "    region = region,\n",
    "    framework = None,\n",
    "    image_scope = 'inference',\n",
    "    instance_type = 'ml.m5.xlarge'\n",
    "    \n",
    ")\n",
    "\n",
    "text_model = sagemaker.model.Model(\n",
    "    \n",
    "    image_uri = text_model_container_uri,\n",
    "    model_data = text_model_s3_uri,\n",
    "    role = role\n",
    "    \n",
    ")\n"
   ]
  },
  {
   "cell_type": "code",
   "execution_count": 28,
   "id": "46caa261-39c3-4841-a5a8-512b7da60fa2",
   "metadata": {
    "tags": []
   },
   "outputs": [],
   "source": [
    "# text_endpoint = text_model.deploy(\n",
    "    \n",
    "#     initial_instance_count = 1,\n",
    "#     instance_type = 'ml.m5.xlarge',\n",
    "#     entry_point = 'inference.py',\n",
    "#     endpoint_name = text_endpoint_name\n",
    "    \n",
    "# )\n",
    "\n",
    "auto_scale_variant(text_endpoint_name, 'AllTraffic')"
   ]
  },
  {
   "cell_type": "code",
   "execution_count": 11,
   "id": "c331e309-4aed-4d61-817a-57843fe280f6",
   "metadata": {
    "tags": []
   },
   "outputs": [],
   "source": [
    "image_predictor = Predictor(endpoint_name = image_endpoint_name)\n",
    "\n",
    "text_predictor = Predictor(endpoint_name = text_endpoint_name)\n"
   ]
  },
  {
   "cell_type": "code",
   "execution_count": null,
   "id": "0b0b2700-436c-4ff5-a0ba-08d20ceb9fcc",
   "metadata": {
    "tags": []
   },
   "outputs": [],
   "source": [
    "from PIL import Image\n",
    "from IPython.display import display\n",
    " \n",
    "file_name = \"./uploaded_images/Signature.jpg\"\n",
    "\n",
    "with open(file_name, \"rb\") as f:\n",
    "    image_payload = f.read()\n",
    "    image_payload = bytearray(image_payload)\n",
    "\n",
    "image_prediction = image_predictor.predict(\n",
    "    \n",
    "    image_payload, \n",
    "    initial_args = {\"ContentType\": \"application/x-image\"}\n",
    "\n",
    ")\n",
    "\n",
    "print(literal_eval(image_prediction.decode('utf-8')))\n"
   ]
  },
  {
   "cell_type": "code",
   "execution_count": null,
   "id": "b57c1671-2bbb-45f9-bcbd-e6e790ea80e0",
   "metadata": {
    "tags": []
   },
   "outputs": [],
   "source": [
    "image_response = sagemaker_client.invoke_endpoint(\n",
    "    EndpointName = image_endpoint_name,\n",
    "    ContentType = 'application/x-image',\n",
    "    Body = image_payload\n",
    ")\n",
    "\n",
    "print(literal_eval(image_response[\"Body\"].read().decode('utf-8')))\n"
   ]
  },
  {
   "cell_type": "code",
   "execution_count": null,
   "id": "b532021d-9dc9-4be1-af8b-295aea506ef4",
   "metadata": {
    "tags": []
   },
   "outputs": [],
   "source": [
    "input_text = \"digital door block\"\n",
    "\n",
    "text_payload = input_text.encode('utf-8')\n",
    "\n",
    "text_prediction = text_predictor.predict(\n",
    "    \n",
    "    text_payload, \n",
    "    initial_args = {\"ContentType\": \"text/csv\"}\n",
    "\n",
    ")\n",
    "\n",
    "print(json.loads(text_prediction)['predictions'][0])\n"
   ]
  },
  {
   "cell_type": "code",
   "execution_count": null,
   "id": "4dee691b-59c0-4552-a10c-fcc84c21c55c",
   "metadata": {
    "tags": []
   },
   "outputs": [],
   "source": [
    "text_response = sagemaker_client.invoke_endpoint(\n",
    "    EndpointName = text_endpoint_name,\n",
    "    ContentType = 'text/csv',\n",
    "    Body = text_payload\n",
    ")\n",
    "\n",
    "print(json.loads(text_response[\"Body\"].read())['predictions'][0])\n"
   ]
  },
  {
   "cell_type": "code",
   "execution_count": null,
   "id": "984dbe7b-11a1-4e6b-a357-31460e88e44e",
   "metadata": {},
   "outputs": [],
   "source": [
    "image_endpoint.delete_endpoint()\n",
    "text_endpoint.delete_endpoint()"
   ]
  }
 ],
 "metadata": {
  "availableInstances": [
   {
    "_defaultOrder": 0,
    "_isFastLaunch": true,
    "category": "General purpose",
    "gpuNum": 0,
    "hideHardwareSpecs": false,
    "memoryGiB": 4,
    "name": "ml.t3.medium",
    "vcpuNum": 2
   },
   {
    "_defaultOrder": 1,
    "_isFastLaunch": false,
    "category": "General purpose",
    "gpuNum": 0,
    "hideHardwareSpecs": false,
    "memoryGiB": 8,
    "name": "ml.t3.large",
    "vcpuNum": 2
   },
   {
    "_defaultOrder": 2,
    "_isFastLaunch": false,
    "category": "General purpose",
    "gpuNum": 0,
    "hideHardwareSpecs": false,
    "memoryGiB": 16,
    "name": "ml.t3.xlarge",
    "vcpuNum": 4
   },
   {
    "_defaultOrder": 3,
    "_isFastLaunch": false,
    "category": "General purpose",
    "gpuNum": 0,
    "hideHardwareSpecs": false,
    "memoryGiB": 32,
    "name": "ml.t3.2xlarge",
    "vcpuNum": 8
   },
   {
    "_defaultOrder": 4,
    "_isFastLaunch": true,
    "category": "General purpose",
    "gpuNum": 0,
    "hideHardwareSpecs": false,
    "memoryGiB": 8,
    "name": "ml.m5.large",
    "vcpuNum": 2
   },
   {
    "_defaultOrder": 5,
    "_isFastLaunch": false,
    "category": "General purpose",
    "gpuNum": 0,
    "hideHardwareSpecs": false,
    "memoryGiB": 16,
    "name": "ml.m5.xlarge",
    "vcpuNum": 4
   },
   {
    "_defaultOrder": 6,
    "_isFastLaunch": false,
    "category": "General purpose",
    "gpuNum": 0,
    "hideHardwareSpecs": false,
    "memoryGiB": 32,
    "name": "ml.m5.2xlarge",
    "vcpuNum": 8
   },
   {
    "_defaultOrder": 7,
    "_isFastLaunch": false,
    "category": "General purpose",
    "gpuNum": 0,
    "hideHardwareSpecs": false,
    "memoryGiB": 64,
    "name": "ml.m5.4xlarge",
    "vcpuNum": 16
   },
   {
    "_defaultOrder": 8,
    "_isFastLaunch": false,
    "category": "General purpose",
    "gpuNum": 0,
    "hideHardwareSpecs": false,
    "memoryGiB": 128,
    "name": "ml.m5.8xlarge",
    "vcpuNum": 32
   },
   {
    "_defaultOrder": 9,
    "_isFastLaunch": false,
    "category": "General purpose",
    "gpuNum": 0,
    "hideHardwareSpecs": false,
    "memoryGiB": 192,
    "name": "ml.m5.12xlarge",
    "vcpuNum": 48
   },
   {
    "_defaultOrder": 10,
    "_isFastLaunch": false,
    "category": "General purpose",
    "gpuNum": 0,
    "hideHardwareSpecs": false,
    "memoryGiB": 256,
    "name": "ml.m5.16xlarge",
    "vcpuNum": 64
   },
   {
    "_defaultOrder": 11,
    "_isFastLaunch": false,
    "category": "General purpose",
    "gpuNum": 0,
    "hideHardwareSpecs": false,
    "memoryGiB": 384,
    "name": "ml.m5.24xlarge",
    "vcpuNum": 96
   },
   {
    "_defaultOrder": 12,
    "_isFastLaunch": false,
    "category": "General purpose",
    "gpuNum": 0,
    "hideHardwareSpecs": false,
    "memoryGiB": 8,
    "name": "ml.m5d.large",
    "vcpuNum": 2
   },
   {
    "_defaultOrder": 13,
    "_isFastLaunch": false,
    "category": "General purpose",
    "gpuNum": 0,
    "hideHardwareSpecs": false,
    "memoryGiB": 16,
    "name": "ml.m5d.xlarge",
    "vcpuNum": 4
   },
   {
    "_defaultOrder": 14,
    "_isFastLaunch": false,
    "category": "General purpose",
    "gpuNum": 0,
    "hideHardwareSpecs": false,
    "memoryGiB": 32,
    "name": "ml.m5d.2xlarge",
    "vcpuNum": 8
   },
   {
    "_defaultOrder": 15,
    "_isFastLaunch": false,
    "category": "General purpose",
    "gpuNum": 0,
    "hideHardwareSpecs": false,
    "memoryGiB": 64,
    "name": "ml.m5d.4xlarge",
    "vcpuNum": 16
   },
   {
    "_defaultOrder": 16,
    "_isFastLaunch": false,
    "category": "General purpose",
    "gpuNum": 0,
    "hideHardwareSpecs": false,
    "memoryGiB": 128,
    "name": "ml.m5d.8xlarge",
    "vcpuNum": 32
   },
   {
    "_defaultOrder": 17,
    "_isFastLaunch": false,
    "category": "General purpose",
    "gpuNum": 0,
    "hideHardwareSpecs": false,
    "memoryGiB": 192,
    "name": "ml.m5d.12xlarge",
    "vcpuNum": 48
   },
   {
    "_defaultOrder": 18,
    "_isFastLaunch": false,
    "category": "General purpose",
    "gpuNum": 0,
    "hideHardwareSpecs": false,
    "memoryGiB": 256,
    "name": "ml.m5d.16xlarge",
    "vcpuNum": 64
   },
   {
    "_defaultOrder": 19,
    "_isFastLaunch": false,
    "category": "General purpose",
    "gpuNum": 0,
    "hideHardwareSpecs": false,
    "memoryGiB": 384,
    "name": "ml.m5d.24xlarge",
    "vcpuNum": 96
   },
   {
    "_defaultOrder": 20,
    "_isFastLaunch": false,
    "category": "General purpose",
    "gpuNum": 0,
    "hideHardwareSpecs": true,
    "memoryGiB": 0,
    "name": "ml.geospatial.interactive",
    "supportedImageNames": [
     "sagemaker-geospatial-v1-0"
    ],
    "vcpuNum": 0
   },
   {
    "_defaultOrder": 21,
    "_isFastLaunch": true,
    "category": "Compute optimized",
    "gpuNum": 0,
    "hideHardwareSpecs": false,
    "memoryGiB": 4,
    "name": "ml.c5.large",
    "vcpuNum": 2
   },
   {
    "_defaultOrder": 22,
    "_isFastLaunch": false,
    "category": "Compute optimized",
    "gpuNum": 0,
    "hideHardwareSpecs": false,
    "memoryGiB": 8,
    "name": "ml.c5.xlarge",
    "vcpuNum": 4
   },
   {
    "_defaultOrder": 23,
    "_isFastLaunch": false,
    "category": "Compute optimized",
    "gpuNum": 0,
    "hideHardwareSpecs": false,
    "memoryGiB": 16,
    "name": "ml.c5.2xlarge",
    "vcpuNum": 8
   },
   {
    "_defaultOrder": 24,
    "_isFastLaunch": false,
    "category": "Compute optimized",
    "gpuNum": 0,
    "hideHardwareSpecs": false,
    "memoryGiB": 32,
    "name": "ml.c5.4xlarge",
    "vcpuNum": 16
   },
   {
    "_defaultOrder": 25,
    "_isFastLaunch": false,
    "category": "Compute optimized",
    "gpuNum": 0,
    "hideHardwareSpecs": false,
    "memoryGiB": 72,
    "name": "ml.c5.9xlarge",
    "vcpuNum": 36
   },
   {
    "_defaultOrder": 26,
    "_isFastLaunch": false,
    "category": "Compute optimized",
    "gpuNum": 0,
    "hideHardwareSpecs": false,
    "memoryGiB": 96,
    "name": "ml.c5.12xlarge",
    "vcpuNum": 48
   },
   {
    "_defaultOrder": 27,
    "_isFastLaunch": false,
    "category": "Compute optimized",
    "gpuNum": 0,
    "hideHardwareSpecs": false,
    "memoryGiB": 144,
    "name": "ml.c5.18xlarge",
    "vcpuNum": 72
   },
   {
    "_defaultOrder": 28,
    "_isFastLaunch": false,
    "category": "Compute optimized",
    "gpuNum": 0,
    "hideHardwareSpecs": false,
    "memoryGiB": 192,
    "name": "ml.c5.24xlarge",
    "vcpuNum": 96
   },
   {
    "_defaultOrder": 29,
    "_isFastLaunch": true,
    "category": "Accelerated computing",
    "gpuNum": 1,
    "hideHardwareSpecs": false,
    "memoryGiB": 16,
    "name": "ml.g4dn.xlarge",
    "vcpuNum": 4
   },
   {
    "_defaultOrder": 30,
    "_isFastLaunch": false,
    "category": "Accelerated computing",
    "gpuNum": 1,
    "hideHardwareSpecs": false,
    "memoryGiB": 32,
    "name": "ml.g4dn.2xlarge",
    "vcpuNum": 8
   },
   {
    "_defaultOrder": 31,
    "_isFastLaunch": false,
    "category": "Accelerated computing",
    "gpuNum": 1,
    "hideHardwareSpecs": false,
    "memoryGiB": 64,
    "name": "ml.g4dn.4xlarge",
    "vcpuNum": 16
   },
   {
    "_defaultOrder": 32,
    "_isFastLaunch": false,
    "category": "Accelerated computing",
    "gpuNum": 1,
    "hideHardwareSpecs": false,
    "memoryGiB": 128,
    "name": "ml.g4dn.8xlarge",
    "vcpuNum": 32
   },
   {
    "_defaultOrder": 33,
    "_isFastLaunch": false,
    "category": "Accelerated computing",
    "gpuNum": 4,
    "hideHardwareSpecs": false,
    "memoryGiB": 192,
    "name": "ml.g4dn.12xlarge",
    "vcpuNum": 48
   },
   {
    "_defaultOrder": 34,
    "_isFastLaunch": false,
    "category": "Accelerated computing",
    "gpuNum": 1,
    "hideHardwareSpecs": false,
    "memoryGiB": 256,
    "name": "ml.g4dn.16xlarge",
    "vcpuNum": 64
   },
   {
    "_defaultOrder": 35,
    "_isFastLaunch": false,
    "category": "Accelerated computing",
    "gpuNum": 1,
    "hideHardwareSpecs": false,
    "memoryGiB": 61,
    "name": "ml.p3.2xlarge",
    "vcpuNum": 8
   },
   {
    "_defaultOrder": 36,
    "_isFastLaunch": false,
    "category": "Accelerated computing",
    "gpuNum": 4,
    "hideHardwareSpecs": false,
    "memoryGiB": 244,
    "name": "ml.p3.8xlarge",
    "vcpuNum": 32
   },
   {
    "_defaultOrder": 37,
    "_isFastLaunch": false,
    "category": "Accelerated computing",
    "gpuNum": 8,
    "hideHardwareSpecs": false,
    "memoryGiB": 488,
    "name": "ml.p3.16xlarge",
    "vcpuNum": 64
   },
   {
    "_defaultOrder": 38,
    "_isFastLaunch": false,
    "category": "Accelerated computing",
    "gpuNum": 8,
    "hideHardwareSpecs": false,
    "memoryGiB": 768,
    "name": "ml.p3dn.24xlarge",
    "vcpuNum": 96
   },
   {
    "_defaultOrder": 39,
    "_isFastLaunch": false,
    "category": "Memory Optimized",
    "gpuNum": 0,
    "hideHardwareSpecs": false,
    "memoryGiB": 16,
    "name": "ml.r5.large",
    "vcpuNum": 2
   },
   {
    "_defaultOrder": 40,
    "_isFastLaunch": false,
    "category": "Memory Optimized",
    "gpuNum": 0,
    "hideHardwareSpecs": false,
    "memoryGiB": 32,
    "name": "ml.r5.xlarge",
    "vcpuNum": 4
   },
   {
    "_defaultOrder": 41,
    "_isFastLaunch": false,
    "category": "Memory Optimized",
    "gpuNum": 0,
    "hideHardwareSpecs": false,
    "memoryGiB": 64,
    "name": "ml.r5.2xlarge",
    "vcpuNum": 8
   },
   {
    "_defaultOrder": 42,
    "_isFastLaunch": false,
    "category": "Memory Optimized",
    "gpuNum": 0,
    "hideHardwareSpecs": false,
    "memoryGiB": 128,
    "name": "ml.r5.4xlarge",
    "vcpuNum": 16
   },
   {
    "_defaultOrder": 43,
    "_isFastLaunch": false,
    "category": "Memory Optimized",
    "gpuNum": 0,
    "hideHardwareSpecs": false,
    "memoryGiB": 256,
    "name": "ml.r5.8xlarge",
    "vcpuNum": 32
   },
   {
    "_defaultOrder": 44,
    "_isFastLaunch": false,
    "category": "Memory Optimized",
    "gpuNum": 0,
    "hideHardwareSpecs": false,
    "memoryGiB": 384,
    "name": "ml.r5.12xlarge",
    "vcpuNum": 48
   },
   {
    "_defaultOrder": 45,
    "_isFastLaunch": false,
    "category": "Memory Optimized",
    "gpuNum": 0,
    "hideHardwareSpecs": false,
    "memoryGiB": 512,
    "name": "ml.r5.16xlarge",
    "vcpuNum": 64
   },
   {
    "_defaultOrder": 46,
    "_isFastLaunch": false,
    "category": "Memory Optimized",
    "gpuNum": 0,
    "hideHardwareSpecs": false,
    "memoryGiB": 768,
    "name": "ml.r5.24xlarge",
    "vcpuNum": 96
   },
   {
    "_defaultOrder": 47,
    "_isFastLaunch": false,
    "category": "Accelerated computing",
    "gpuNum": 1,
    "hideHardwareSpecs": false,
    "memoryGiB": 16,
    "name": "ml.g5.xlarge",
    "vcpuNum": 4
   },
   {
    "_defaultOrder": 48,
    "_isFastLaunch": false,
    "category": "Accelerated computing",
    "gpuNum": 1,
    "hideHardwareSpecs": false,
    "memoryGiB": 32,
    "name": "ml.g5.2xlarge",
    "vcpuNum": 8
   },
   {
    "_defaultOrder": 49,
    "_isFastLaunch": false,
    "category": "Accelerated computing",
    "gpuNum": 1,
    "hideHardwareSpecs": false,
    "memoryGiB": 64,
    "name": "ml.g5.4xlarge",
    "vcpuNum": 16
   },
   {
    "_defaultOrder": 50,
    "_isFastLaunch": false,
    "category": "Accelerated computing",
    "gpuNum": 1,
    "hideHardwareSpecs": false,
    "memoryGiB": 128,
    "name": "ml.g5.8xlarge",
    "vcpuNum": 32
   },
   {
    "_defaultOrder": 51,
    "_isFastLaunch": false,
    "category": "Accelerated computing",
    "gpuNum": 1,
    "hideHardwareSpecs": false,
    "memoryGiB": 256,
    "name": "ml.g5.16xlarge",
    "vcpuNum": 64
   },
   {
    "_defaultOrder": 52,
    "_isFastLaunch": false,
    "category": "Accelerated computing",
    "gpuNum": 4,
    "hideHardwareSpecs": false,
    "memoryGiB": 192,
    "name": "ml.g5.12xlarge",
    "vcpuNum": 48
   },
   {
    "_defaultOrder": 53,
    "_isFastLaunch": false,
    "category": "Accelerated computing",
    "gpuNum": 4,
    "hideHardwareSpecs": false,
    "memoryGiB": 384,
    "name": "ml.g5.24xlarge",
    "vcpuNum": 96
   },
   {
    "_defaultOrder": 54,
    "_isFastLaunch": false,
    "category": "Accelerated computing",
    "gpuNum": 8,
    "hideHardwareSpecs": false,
    "memoryGiB": 768,
    "name": "ml.g5.48xlarge",
    "vcpuNum": 192
   }
  ],
  "instance_type": "ml.t3.medium",
  "kernelspec": {
   "display_name": "Python 3 (Data Science)",
   "language": "python",
   "name": "python3__SAGEMAKER_INTERNAL__arn:aws:sagemaker:us-east-1:081325390199:image/datascience-1.0"
  },
  "language_info": {
   "codemirror_mode": {
    "name": "ipython",
    "version": 3
   },
   "file_extension": ".py",
   "mimetype": "text/x-python",
   "name": "python",
   "nbconvert_exporter": "python",
   "pygments_lexer": "ipython3",
   "version": "3.7.10"
  }
 },
 "nbformat": 4,
 "nbformat_minor": 5
}
